{
 "cells": [
  {
   "cell_type": "code",
   "execution_count": 6,
   "metadata": {},
   "outputs": [],
   "source": [
    "from os import path\n",
    "from PIL import Image\n",
    "import numpy as np\n",
    "import matplotlib.pyplot as plt\n",
    "\n",
    "from wordcloud import WordCloud, STOPWORDS\n",
    "\n",
    "\n",
    "\n",
    "# Read the whole text.\n",
    "text = open(path.join('activities.txt')).read()\n",
    "\n",
    "# read the mask image\n",
    "# taken from\n",
    "# http://www.stencilry.org/stencils/movies/alice%20in%20wonderland/255fk.jpg\n",
    "alice_mask = np.array(Image.open(\"camping.jpg\"))\n",
    "\n",
    "\n",
    "wc = WordCloud(background_color=\"grey\", max_words=2000, mask=alice_mask,\n",
    "       )\n",
    "# generate word cloud\n",
    "wc.generate(text)\n",
    "\n",
    "# store to file\n",
    "wc.to_file(\"campsite.png\")\n",
    "\n",
    "# show\n",
    "plt.figure(figsize=(10,20))\n",
    "\n",
    "plt.imshow(wc, interpolation='bilinear')\n",
    "plt.imshow(alice_mask, cmap=plt.cm.gray,alpha=0.1, interpolation='bilinear')\n",
    "plt.axis(\"off\")\n",
    "plt.savefig('campsite_logo.png')\n",
    "\n",
    "#plt.axis(\"off\")\n"
   ]
  },
  {
   "cell_type": "code",
   "execution_count": 15,
   "metadata": {
    "collapsed": true
   },
   "outputs": [],
   "source": [
    "WordCloud?"
   ]
  },
  {
   "cell_type": "code",
   "execution_count": null,
   "metadata": {
    "collapsed": true
   },
   "outputs": [],
   "source": []
  }
 ],
 "metadata": {
  "kernelspec": {
   "display_name": "Python 2",
   "language": "python",
   "name": "python2"
  },
  "language_info": {
   "codemirror_mode": {
    "name": "ipython",
    "version": 2
   },
   "file_extension": ".py",
   "mimetype": "text/x-python",
   "name": "python",
   "nbconvert_exporter": "python",
   "pygments_lexer": "ipython2",
   "version": "2.7.13"
  }
 },
 "nbformat": 4,
 "nbformat_minor": 2
}
